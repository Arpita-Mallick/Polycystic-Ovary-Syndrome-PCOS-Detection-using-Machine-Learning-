{
 "cells": [
  {
   "cell_type": "code",
   "execution_count": 2,
   "id": "f7f1fab2",
   "metadata": {},
   "outputs": [],
   "source": [
    "import numpy as np\n",
    "import pandas as pd"
   ]
  },
  {
   "cell_type": "code",
   "execution_count": 3,
   "id": "941cf83c",
   "metadata": {},
   "outputs": [],
   "source": [
    "df = pd.read_csv('PCOS_data.csv')"
   ]
  },
  {
   "cell_type": "code",
   "execution_count": 4,
   "id": "a02d9f78",
   "metadata": {},
   "outputs": [
    {
     "data": {
      "text/html": [
       "<div>\n",
       "<style scoped>\n",
       "    .dataframe tbody tr th:only-of-type {\n",
       "        vertical-align: middle;\n",
       "    }\n",
       "\n",
       "    .dataframe tbody tr th {\n",
       "        vertical-align: top;\n",
       "    }\n",
       "\n",
       "    .dataframe thead th {\n",
       "        text-align: right;\n",
       "    }\n",
       "</style>\n",
       "<table border=\"1\" class=\"dataframe\">\n",
       "  <thead>\n",
       "    <tr style=\"text-align: right;\">\n",
       "      <th></th>\n",
       "      <th>Sl. No</th>\n",
       "      <th>Patient File No.</th>\n",
       "      <th>PCOS (Y/N)</th>\n",
       "      <th>Age (yrs)</th>\n",
       "      <th>Weight (Kg)</th>\n",
       "      <th>Height(Cm)</th>\n",
       "      <th>BMI</th>\n",
       "      <th>Blood Group</th>\n",
       "      <th>Pulse rate(bpm)</th>\n",
       "      <th>RR (breaths/min)</th>\n",
       "      <th>...</th>\n",
       "      <th>Fast food (Y/N)</th>\n",
       "      <th>Reg.Exercise(Y/N)</th>\n",
       "      <th>BP _Systolic (mmHg)</th>\n",
       "      <th>BP _Diastolic (mmHg)</th>\n",
       "      <th>Follicle No. (L)</th>\n",
       "      <th>Follicle No. (R)</th>\n",
       "      <th>Avg. F size (L) (mm)</th>\n",
       "      <th>Avg. F size (R) (mm)</th>\n",
       "      <th>Endometrium (mm)</th>\n",
       "      <th>Unnamed: 44</th>\n",
       "    </tr>\n",
       "  </thead>\n",
       "  <tbody>\n",
       "    <tr>\n",
       "      <th>0</th>\n",
       "      <td>1</td>\n",
       "      <td>1</td>\n",
       "      <td>0</td>\n",
       "      <td>28</td>\n",
       "      <td>44.6</td>\n",
       "      <td>152.0</td>\n",
       "      <td>19.3</td>\n",
       "      <td>15</td>\n",
       "      <td>78</td>\n",
       "      <td>22</td>\n",
       "      <td>...</td>\n",
       "      <td>1.0</td>\n",
       "      <td>0</td>\n",
       "      <td>110</td>\n",
       "      <td>80</td>\n",
       "      <td>3</td>\n",
       "      <td>3</td>\n",
       "      <td>18.0</td>\n",
       "      <td>18.0</td>\n",
       "      <td>8.5</td>\n",
       "      <td>NaN</td>\n",
       "    </tr>\n",
       "    <tr>\n",
       "      <th>1</th>\n",
       "      <td>2</td>\n",
       "      <td>2</td>\n",
       "      <td>0</td>\n",
       "      <td>36</td>\n",
       "      <td>65.0</td>\n",
       "      <td>161.5</td>\n",
       "      <td>24.9</td>\n",
       "      <td>15</td>\n",
       "      <td>74</td>\n",
       "      <td>20</td>\n",
       "      <td>...</td>\n",
       "      <td>0.0</td>\n",
       "      <td>0</td>\n",
       "      <td>120</td>\n",
       "      <td>70</td>\n",
       "      <td>3</td>\n",
       "      <td>5</td>\n",
       "      <td>15.0</td>\n",
       "      <td>14.0</td>\n",
       "      <td>3.7</td>\n",
       "      <td>NaN</td>\n",
       "    </tr>\n",
       "    <tr>\n",
       "      <th>2</th>\n",
       "      <td>3</td>\n",
       "      <td>3</td>\n",
       "      <td>1</td>\n",
       "      <td>33</td>\n",
       "      <td>68.8</td>\n",
       "      <td>165.0</td>\n",
       "      <td>25.3</td>\n",
       "      <td>11</td>\n",
       "      <td>72</td>\n",
       "      <td>18</td>\n",
       "      <td>...</td>\n",
       "      <td>1.0</td>\n",
       "      <td>0</td>\n",
       "      <td>120</td>\n",
       "      <td>80</td>\n",
       "      <td>13</td>\n",
       "      <td>15</td>\n",
       "      <td>18.0</td>\n",
       "      <td>20.0</td>\n",
       "      <td>10.0</td>\n",
       "      <td>NaN</td>\n",
       "    </tr>\n",
       "    <tr>\n",
       "      <th>3</th>\n",
       "      <td>4</td>\n",
       "      <td>4</td>\n",
       "      <td>0</td>\n",
       "      <td>37</td>\n",
       "      <td>65.0</td>\n",
       "      <td>148.0</td>\n",
       "      <td>29.7</td>\n",
       "      <td>13</td>\n",
       "      <td>72</td>\n",
       "      <td>20</td>\n",
       "      <td>...</td>\n",
       "      <td>0.0</td>\n",
       "      <td>0</td>\n",
       "      <td>120</td>\n",
       "      <td>70</td>\n",
       "      <td>2</td>\n",
       "      <td>2</td>\n",
       "      <td>15.0</td>\n",
       "      <td>14.0</td>\n",
       "      <td>7.5</td>\n",
       "      <td>NaN</td>\n",
       "    </tr>\n",
       "    <tr>\n",
       "      <th>4</th>\n",
       "      <td>5</td>\n",
       "      <td>5</td>\n",
       "      <td>0</td>\n",
       "      <td>25</td>\n",
       "      <td>52.0</td>\n",
       "      <td>161.0</td>\n",
       "      <td>20.1</td>\n",
       "      <td>11</td>\n",
       "      <td>72</td>\n",
       "      <td>18</td>\n",
       "      <td>...</td>\n",
       "      <td>0.0</td>\n",
       "      <td>0</td>\n",
       "      <td>120</td>\n",
       "      <td>80</td>\n",
       "      <td>3</td>\n",
       "      <td>4</td>\n",
       "      <td>16.0</td>\n",
       "      <td>14.0</td>\n",
       "      <td>7.0</td>\n",
       "      <td>NaN</td>\n",
       "    </tr>\n",
       "  </tbody>\n",
       "</table>\n",
       "<p>5 rows × 45 columns</p>\n",
       "</div>"
      ],
      "text/plain": [
       "   Sl. No  Patient File No.  PCOS (Y/N)   Age (yrs)  Weight (Kg)  Height(Cm)   \\\n",
       "0       1                 1           0          28         44.6        152.0   \n",
       "1       2                 2           0          36         65.0        161.5   \n",
       "2       3                 3           1          33         68.8        165.0   \n",
       "3       4                 4           0          37         65.0        148.0   \n",
       "4       5                 5           0          25         52.0        161.0   \n",
       "\n",
       "    BMI  Blood Group  Pulse rate(bpm)   RR (breaths/min)  ...  \\\n",
       "0  19.3           15                78                22  ...   \n",
       "1  24.9           15                74                20  ...   \n",
       "2  25.3           11                72                18  ...   \n",
       "3  29.7           13                72                20  ...   \n",
       "4  20.1           11                72                18  ...   \n",
       "\n",
       "   Fast food (Y/N)  Reg.Exercise(Y/N)  BP _Systolic (mmHg)  \\\n",
       "0              1.0                  0                  110   \n",
       "1              0.0                  0                  120   \n",
       "2              1.0                  0                  120   \n",
       "3              0.0                  0                  120   \n",
       "4              0.0                  0                  120   \n",
       "\n",
       "   BP _Diastolic (mmHg)  Follicle No. (L)  Follicle No. (R)  \\\n",
       "0                    80                 3                 3   \n",
       "1                    70                 3                 5   \n",
       "2                    80                13                15   \n",
       "3                    70                 2                 2   \n",
       "4                    80                 3                 4   \n",
       "\n",
       "   Avg. F size (L) (mm) Avg. F size (R) (mm)  Endometrium (mm)  Unnamed: 44  \n",
       "0                  18.0                 18.0               8.5          NaN  \n",
       "1                  15.0                 14.0               3.7          NaN  \n",
       "2                  18.0                 20.0              10.0          NaN  \n",
       "3                  15.0                 14.0               7.5          NaN  \n",
       "4                  16.0                 14.0               7.0          NaN  \n",
       "\n",
       "[5 rows x 45 columns]"
      ]
     },
     "execution_count": 4,
     "metadata": {},
     "output_type": "execute_result"
    }
   ],
   "source": [
    "df.head()"
   ]
  },
  {
   "cell_type": "code",
   "execution_count": 5,
   "id": "631d6758",
   "metadata": {},
   "outputs": [
    {
     "name": "stdout",
     "output_type": "stream",
     "text": [
      "<class 'pandas.core.frame.DataFrame'>\n",
      "RangeIndex: 541 entries, 0 to 540\n",
      "Data columns (total 45 columns):\n",
      " #   Column                  Non-Null Count  Dtype  \n",
      "---  ------                  --------------  -----  \n",
      " 0   Sl. No                  541 non-null    int64  \n",
      " 1   Patient File No.        541 non-null    int64  \n",
      " 2   PCOS (Y/N)              541 non-null    int64  \n",
      " 3    Age (yrs)              541 non-null    int64  \n",
      " 4   Weight (Kg)             541 non-null    float64\n",
      " 5   Height(Cm)              541 non-null    float64\n",
      " 6   BMI                     541 non-null    float64\n",
      " 7   Blood Group             541 non-null    int64  \n",
      " 8   Pulse rate(bpm)         541 non-null    int64  \n",
      " 9   RR (breaths/min)        541 non-null    int64  \n",
      " 10  Hb(g/dl)                541 non-null    float64\n",
      " 11  Cycle(R/I)              541 non-null    int64  \n",
      " 12  Cycle length(days)      541 non-null    int64  \n",
      " 13  Marraige Status (Yrs)   540 non-null    float64\n",
      " 14  Pregnant(Y/N)           541 non-null    int64  \n",
      " 15  No. of abortions        541 non-null    int64  \n",
      " 16    I   beta-HCG(mIU/mL)  541 non-null    float64\n",
      " 17  II    beta-HCG(mIU/mL)  541 non-null    object \n",
      " 18  FSH(mIU/mL)             541 non-null    float64\n",
      " 19  LH(mIU/mL)              541 non-null    float64\n",
      " 20  FSH/LH                  541 non-null    float64\n",
      " 21  Hip(inch)               541 non-null    int64  \n",
      " 22  Waist(inch)             541 non-null    int64  \n",
      " 23  Waist:Hip Ratio         541 non-null    float64\n",
      " 24  TSH (mIU/L)             541 non-null    float64\n",
      " 25  AMH(ng/mL)              541 non-null    object \n",
      " 26  PRL(ng/mL)              541 non-null    float64\n",
      " 27  Vit D3 (ng/mL)          541 non-null    float64\n",
      " 28  PRG(ng/mL)              541 non-null    float64\n",
      " 29  RBS(mg/dl)              541 non-null    float64\n",
      " 30  Weight gain(Y/N)        541 non-null    int64  \n",
      " 31  hair growth(Y/N)        541 non-null    int64  \n",
      " 32  Skin darkening (Y/N)    541 non-null    int64  \n",
      " 33  Hair loss(Y/N)          541 non-null    int64  \n",
      " 34  Pimples(Y/N)            541 non-null    int64  \n",
      " 35  Fast food (Y/N)         540 non-null    float64\n",
      " 36  Reg.Exercise(Y/N)       541 non-null    int64  \n",
      " 37  BP _Systolic (mmHg)     541 non-null    int64  \n",
      " 38  BP _Diastolic (mmHg)    541 non-null    int64  \n",
      " 39  Follicle No. (L)        541 non-null    int64  \n",
      " 40  Follicle No. (R)        541 non-null    int64  \n",
      " 41  Avg. F size (L) (mm)    541 non-null    float64\n",
      " 42  Avg. F size (R) (mm)    541 non-null    float64\n",
      " 43  Endometrium (mm)        541 non-null    float64\n",
      " 44  Unnamed: 44             2 non-null      object \n",
      "dtypes: float64(19), int64(23), object(3)\n",
      "memory usage: 190.3+ KB\n"
     ]
    }
   ],
   "source": [
    "df.info()"
   ]
  },
  {
   "cell_type": "code",
   "execution_count": 6,
   "id": "1e4ad2cc",
   "metadata": {},
   "outputs": [],
   "source": [
    "object_columns = df.select_dtypes(include=['object']).columns\n",
    "df = df.drop(columns=object_columns)"
   ]
  },
  {
   "cell_type": "code",
   "execution_count": 7,
   "id": "3a4fb260",
   "metadata": {},
   "outputs": [
    {
     "name": "stdout",
     "output_type": "stream",
     "text": [
      "<class 'pandas.core.frame.DataFrame'>\n",
      "RangeIndex: 541 entries, 0 to 540\n",
      "Data columns (total 42 columns):\n",
      " #   Column                  Non-Null Count  Dtype  \n",
      "---  ------                  --------------  -----  \n",
      " 0   Sl. No                  541 non-null    int64  \n",
      " 1   Patient File No.        541 non-null    int64  \n",
      " 2   PCOS (Y/N)              541 non-null    int64  \n",
      " 3    Age (yrs)              541 non-null    int64  \n",
      " 4   Weight (Kg)             541 non-null    float64\n",
      " 5   Height(Cm)              541 non-null    float64\n",
      " 6   BMI                     541 non-null    float64\n",
      " 7   Blood Group             541 non-null    int64  \n",
      " 8   Pulse rate(bpm)         541 non-null    int64  \n",
      " 9   RR (breaths/min)        541 non-null    int64  \n",
      " 10  Hb(g/dl)                541 non-null    float64\n",
      " 11  Cycle(R/I)              541 non-null    int64  \n",
      " 12  Cycle length(days)      541 non-null    int64  \n",
      " 13  Marraige Status (Yrs)   540 non-null    float64\n",
      " 14  Pregnant(Y/N)           541 non-null    int64  \n",
      " 15  No. of abortions        541 non-null    int64  \n",
      " 16    I   beta-HCG(mIU/mL)  541 non-null    float64\n",
      " 17  FSH(mIU/mL)             541 non-null    float64\n",
      " 18  LH(mIU/mL)              541 non-null    float64\n",
      " 19  FSH/LH                  541 non-null    float64\n",
      " 20  Hip(inch)               541 non-null    int64  \n",
      " 21  Waist(inch)             541 non-null    int64  \n",
      " 22  Waist:Hip Ratio         541 non-null    float64\n",
      " 23  TSH (mIU/L)             541 non-null    float64\n",
      " 24  PRL(ng/mL)              541 non-null    float64\n",
      " 25  Vit D3 (ng/mL)          541 non-null    float64\n",
      " 26  PRG(ng/mL)              541 non-null    float64\n",
      " 27  RBS(mg/dl)              541 non-null    float64\n",
      " 28  Weight gain(Y/N)        541 non-null    int64  \n",
      " 29  hair growth(Y/N)        541 non-null    int64  \n",
      " 30  Skin darkening (Y/N)    541 non-null    int64  \n",
      " 31  Hair loss(Y/N)          541 non-null    int64  \n",
      " 32  Pimples(Y/N)            541 non-null    int64  \n",
      " 33  Fast food (Y/N)         540 non-null    float64\n",
      " 34  Reg.Exercise(Y/N)       541 non-null    int64  \n",
      " 35  BP _Systolic (mmHg)     541 non-null    int64  \n",
      " 36  BP _Diastolic (mmHg)    541 non-null    int64  \n",
      " 37  Follicle No. (L)        541 non-null    int64  \n",
      " 38  Follicle No. (R)        541 non-null    int64  \n",
      " 39  Avg. F size (L) (mm)    541 non-null    float64\n",
      " 40  Avg. F size (R) (mm)    541 non-null    float64\n",
      " 41  Endometrium (mm)        541 non-null    float64\n",
      "dtypes: float64(19), int64(23)\n",
      "memory usage: 177.6 KB\n"
     ]
    }
   ],
   "source": [
    "df.info()"
   ]
  },
  {
   "cell_type": "code",
   "execution_count": 8,
   "id": "829eea22",
   "metadata": {},
   "outputs": [],
   "source": [
    "df=df.astype(float)  #converting all the values to float"
   ]
  },
  {
   "cell_type": "code",
   "execution_count": 9,
   "id": "041a11ff",
   "metadata": {
    "scrolled": true
   },
   "outputs": [
    {
     "name": "stdout",
     "output_type": "stream",
     "text": [
      "<class 'pandas.core.frame.DataFrame'>\n",
      "RangeIndex: 541 entries, 0 to 540\n",
      "Data columns (total 42 columns):\n",
      " #   Column                  Non-Null Count  Dtype  \n",
      "---  ------                  --------------  -----  \n",
      " 0   Sl. No                  541 non-null    float64\n",
      " 1   Patient File No.        541 non-null    float64\n",
      " 2   PCOS (Y/N)              541 non-null    float64\n",
      " 3    Age (yrs)              541 non-null    float64\n",
      " 4   Weight (Kg)             541 non-null    float64\n",
      " 5   Height(Cm)              541 non-null    float64\n",
      " 6   BMI                     541 non-null    float64\n",
      " 7   Blood Group             541 non-null    float64\n",
      " 8   Pulse rate(bpm)         541 non-null    float64\n",
      " 9   RR (breaths/min)        541 non-null    float64\n",
      " 10  Hb(g/dl)                541 non-null    float64\n",
      " 11  Cycle(R/I)              541 non-null    float64\n",
      " 12  Cycle length(days)      541 non-null    float64\n",
      " 13  Marraige Status (Yrs)   540 non-null    float64\n",
      " 14  Pregnant(Y/N)           541 non-null    float64\n",
      " 15  No. of abortions        541 non-null    float64\n",
      " 16    I   beta-HCG(mIU/mL)  541 non-null    float64\n",
      " 17  FSH(mIU/mL)             541 non-null    float64\n",
      " 18  LH(mIU/mL)              541 non-null    float64\n",
      " 19  FSH/LH                  541 non-null    float64\n",
      " 20  Hip(inch)               541 non-null    float64\n",
      " 21  Waist(inch)             541 non-null    float64\n",
      " 22  Waist:Hip Ratio         541 non-null    float64\n",
      " 23  TSH (mIU/L)             541 non-null    float64\n",
      " 24  PRL(ng/mL)              541 non-null    float64\n",
      " 25  Vit D3 (ng/mL)          541 non-null    float64\n",
      " 26  PRG(ng/mL)              541 non-null    float64\n",
      " 27  RBS(mg/dl)              541 non-null    float64\n",
      " 28  Weight gain(Y/N)        541 non-null    float64\n",
      " 29  hair growth(Y/N)        541 non-null    float64\n",
      " 30  Skin darkening (Y/N)    541 non-null    float64\n",
      " 31  Hair loss(Y/N)          541 non-null    float64\n",
      " 32  Pimples(Y/N)            541 non-null    float64\n",
      " 33  Fast food (Y/N)         540 non-null    float64\n",
      " 34  Reg.Exercise(Y/N)       541 non-null    float64\n",
      " 35  BP _Systolic (mmHg)     541 non-null    float64\n",
      " 36  BP _Diastolic (mmHg)    541 non-null    float64\n",
      " 37  Follicle No. (L)        541 non-null    float64\n",
      " 38  Follicle No. (R)        541 non-null    float64\n",
      " 39  Avg. F size (L) (mm)    541 non-null    float64\n",
      " 40  Avg. F size (R) (mm)    541 non-null    float64\n",
      " 41  Endometrium (mm)        541 non-null    float64\n",
      "dtypes: float64(42)\n",
      "memory usage: 177.6 KB\n"
     ]
    }
   ],
   "source": [
    "df.info()"
   ]
  },
  {
   "cell_type": "code",
   "execution_count": 10,
   "id": "6106b0d9",
   "metadata": {},
   "outputs": [],
   "source": [
    "df=df.dropna()  # removing null values if present in the dataset"
   ]
  },
  {
   "cell_type": "code",
   "execution_count": 11,
   "id": "a29b8220",
   "metadata": {},
   "outputs": [
    {
     "name": "stdout",
     "output_type": "stream",
     "text": [
      "      Age (yrs)  Weight (Kg)   BMI  Cycle(R/I)  Cycle length(days)  \\\n",
      "0          28.0         44.6  19.3         2.0                 5.0   \n",
      "1          36.0         65.0  24.9         2.0                 5.0   \n",
      "2          33.0         68.8  25.3         2.0                 5.0   \n",
      "3          37.0         65.0  29.7         2.0                 5.0   \n",
      "4          25.0         52.0  20.1         2.0                 5.0   \n",
      "..          ...          ...   ...         ...                 ...   \n",
      "536        35.0         50.0  18.5         2.0                 5.0   \n",
      "537        30.0         63.2  25.3         2.0                 5.0   \n",
      "538        36.0         54.0  23.4         2.0                 6.0   \n",
      "539        27.0         50.0  22.2         4.0                 2.0   \n",
      "540        23.0         82.0  30.1         4.0                 7.0   \n",
      "\n",
      "     Marraige Status (Yrs)    I   beta-HCG(mIU/mL)  FSH(mIU/mL)  LH(mIU/mL)  \\\n",
      "0                      7.0                    1.99         7.95        3.68   \n",
      "1                     11.0                   60.80         6.73        1.09   \n",
      "2                     10.0                  494.08         5.54        0.88   \n",
      "3                      4.0                    1.99         8.06        2.36   \n",
      "4                      1.0                  801.45         3.98        0.90   \n",
      "..                     ...                     ...          ...         ...   \n",
      "536                    8.0                    1.99        10.06        1.81   \n",
      "537                    4.0                   80.13         5.07        2.84   \n",
      "538                    8.0                    1.99        11.96        2.78   \n",
      "539                    2.0                  292.92         4.40        4.33   \n",
      "540                    2.0                    1.99         3.99        4.30   \n",
      "\n",
      "     FSH/LH  Vit D3 (ng/mL)  PRG(ng/mL)  Weight gain(Y/N)  hair growth(Y/N)  \\\n",
      "0      2.16            17.1        0.57               0.0               0.0   \n",
      "1      6.17            61.3        0.97               0.0               0.0   \n",
      "2      6.30            49.7        0.36               0.0               0.0   \n",
      "3      3.42            33.4        0.36               0.0               0.0   \n",
      "4      4.42            43.8        0.38               0.0               0.0   \n",
      "..      ...             ...         ...               ...               ...   \n",
      "536    5.56            36.6        0.25               0.0               0.0   \n",
      "537    1.79            23.0        0.25               1.0               0.0   \n",
      "538    4.30            22.5        0.25               0.0               0.0   \n",
      "539    1.02            22.4        0.25               0.0               0.0   \n",
      "540    0.93            17.4        0.37               1.0               1.0   \n",
      "\n",
      "     Skin darkening (Y/N)  Hair loss(Y/N)  Pimples(Y/N)  Fast food (Y/N)  \\\n",
      "0                     0.0             0.0           0.0              1.0   \n",
      "1                     0.0             0.0           0.0              0.0   \n",
      "2                     0.0             1.0           1.0              1.0   \n",
      "3                     0.0             0.0           0.0              0.0   \n",
      "4                     0.0             1.0           0.0              0.0   \n",
      "..                    ...             ...           ...              ...   \n",
      "536                   0.0             0.0           0.0              0.0   \n",
      "537                   0.0             0.0           0.0              0.0   \n",
      "538                   0.0             0.0           0.0              0.0   \n",
      "539                   0.0             0.0           1.0              0.0   \n",
      "540                   1.0             1.0           1.0              1.0   \n",
      "\n",
      "     Follicle No. (L)  Follicle No. (R)  \n",
      "0                 3.0               3.0  \n",
      "1                 3.0               5.0  \n",
      "2                13.0              15.0  \n",
      "3                 2.0               2.0  \n",
      "4                 3.0               4.0  \n",
      "..                ...               ...  \n",
      "536               1.0               0.0  \n",
      "537               9.0               7.0  \n",
      "538               1.0               0.0  \n",
      "539               7.0               6.0  \n",
      "540               9.0              10.0  \n",
      "\n",
      "[539 rows x 20 columns]\n"
     ]
    }
   ],
   "source": [
    "from sklearn.feature_selection import SelectKBest, chi2  #selecting best and useful 20 features out of all 41 features using chi square method\n",
    "\n",
    "X = df.drop(['Sl. No','Patient File No.','PCOS (Y/N)'],axis=1)\n",
    "y = df['PCOS (Y/N)']\n",
    "\n",
    "# Select the 20 most useful features using chi-squared (chi2) scoring function\n",
    "k_best_features = SelectKBest(score_func=chi2, k=20)\n",
    "X_selected = k_best_features.fit_transform(X, y)\n",
    "\n",
    "# Get the indices of the selected features\n",
    "selected_feature_indices = k_best_features.get_support(indices=True)\n",
    "\n",
    "# Get the names of the selected features\n",
    "selected_feature_names = X.columns[selected_feature_indices]\n",
    "\n",
    "# Update df to keep only the 20 most important features\n",
    "df = df[selected_feature_names]\n",
    "\n",
    "# Display the updated DataFrame\n",
    "print(df)\n"
   ]
  },
  {
   "cell_type": "code",
   "execution_count": 12,
   "id": "49a4c80f",
   "metadata": {},
   "outputs": [],
   "source": [
    "from sklearn.model_selection import train_test_split\n",
    "\n",
    "train = df  # extracting features and removing labels and unwanted columns from dataset\n",
    "parameters = train.columns\n",
    "train = np.asarray(train , dtype='float64')\n",
    "\n",
    "test = y\n",
    "test = np.asarray(test , dtype='float64')"
   ]
  },
  {
   "cell_type": "code",
   "execution_count": 13,
   "id": "87b56b80",
   "metadata": {},
   "outputs": [],
   "source": [
    "parameters=parameters.tolist()  # parameters is the parameter/input features for the model."
   ]
  },
  {
   "cell_type": "code",
   "execution_count": 14,
   "id": "3de21d9a",
   "metadata": {},
   "outputs": [
    {
     "data": {
      "text/plain": [
       "[' Age (yrs)',\n",
       " 'Weight (Kg)',\n",
       " 'BMI',\n",
       " 'Cycle(R/I)',\n",
       " 'Cycle length(days)',\n",
       " 'Marraige Status (Yrs)',\n",
       " '  I   beta-HCG(mIU/mL)',\n",
       " 'FSH(mIU/mL)',\n",
       " 'LH(mIU/mL)',\n",
       " 'FSH/LH',\n",
       " 'Vit D3 (ng/mL)',\n",
       " 'PRG(ng/mL)',\n",
       " 'Weight gain(Y/N)',\n",
       " 'hair growth(Y/N)',\n",
       " 'Skin darkening (Y/N)',\n",
       " 'Hair loss(Y/N)',\n",
       " 'Pimples(Y/N)',\n",
       " 'Fast food (Y/N)',\n",
       " 'Follicle No. (L)',\n",
       " 'Follicle No. (R)']"
      ]
     },
     "execution_count": 14,
     "metadata": {},
     "output_type": "execute_result"
    }
   ],
   "source": [
    "parameters"
   ]
  },
  {
   "cell_type": "code",
   "execution_count": 15,
   "id": "2d67bd52",
   "metadata": {},
   "outputs": [],
   "source": [
    "X_train,X_test,Y_train,Y_test = train_test_split(train,test,test_size=0.2,random_state = 2) #splitting the dataset for training and testing"
   ]
  },
  {
   "cell_type": "code",
   "execution_count": 16,
   "id": "f72857ed",
   "metadata": {},
   "outputs": [
    {
     "data": {
      "text/html": [
       "<style>#sk-container-id-1 {color: black;}#sk-container-id-1 pre{padding: 0;}#sk-container-id-1 div.sk-toggleable {background-color: white;}#sk-container-id-1 label.sk-toggleable__label {cursor: pointer;display: block;width: 100%;margin-bottom: 0;padding: 0.3em;box-sizing: border-box;text-align: center;}#sk-container-id-1 label.sk-toggleable__label-arrow:before {content: \"▸\";float: left;margin-right: 0.25em;color: #696969;}#sk-container-id-1 label.sk-toggleable__label-arrow:hover:before {color: black;}#sk-container-id-1 div.sk-estimator:hover label.sk-toggleable__label-arrow:before {color: black;}#sk-container-id-1 div.sk-toggleable__content {max-height: 0;max-width: 0;overflow: hidden;text-align: left;background-color: #f0f8ff;}#sk-container-id-1 div.sk-toggleable__content pre {margin: 0.2em;color: black;border-radius: 0.25em;background-color: #f0f8ff;}#sk-container-id-1 input.sk-toggleable__control:checked~div.sk-toggleable__content {max-height: 200px;max-width: 100%;overflow: auto;}#sk-container-id-1 input.sk-toggleable__control:checked~label.sk-toggleable__label-arrow:before {content: \"▾\";}#sk-container-id-1 div.sk-estimator input.sk-toggleable__control:checked~label.sk-toggleable__label {background-color: #d4ebff;}#sk-container-id-1 div.sk-label input.sk-toggleable__control:checked~label.sk-toggleable__label {background-color: #d4ebff;}#sk-container-id-1 input.sk-hidden--visually {border: 0;clip: rect(1px 1px 1px 1px);clip: rect(1px, 1px, 1px, 1px);height: 1px;margin: -1px;overflow: hidden;padding: 0;position: absolute;width: 1px;}#sk-container-id-1 div.sk-estimator {font-family: monospace;background-color: #f0f8ff;border: 1px dotted black;border-radius: 0.25em;box-sizing: border-box;margin-bottom: 0.5em;}#sk-container-id-1 div.sk-estimator:hover {background-color: #d4ebff;}#sk-container-id-1 div.sk-parallel-item::after {content: \"\";width: 100%;border-bottom: 1px solid gray;flex-grow: 1;}#sk-container-id-1 div.sk-label:hover label.sk-toggleable__label {background-color: #d4ebff;}#sk-container-id-1 div.sk-serial::before {content: \"\";position: absolute;border-left: 1px solid gray;box-sizing: border-box;top: 0;bottom: 0;left: 50%;z-index: 0;}#sk-container-id-1 div.sk-serial {display: flex;flex-direction: column;align-items: center;background-color: white;padding-right: 0.2em;padding-left: 0.2em;position: relative;}#sk-container-id-1 div.sk-item {position: relative;z-index: 1;}#sk-container-id-1 div.sk-parallel {display: flex;align-items: stretch;justify-content: center;background-color: white;position: relative;}#sk-container-id-1 div.sk-item::before, #sk-container-id-1 div.sk-parallel-item::before {content: \"\";position: absolute;border-left: 1px solid gray;box-sizing: border-box;top: 0;bottom: 0;left: 50%;z-index: -1;}#sk-container-id-1 div.sk-parallel-item {display: flex;flex-direction: column;z-index: 1;position: relative;background-color: white;}#sk-container-id-1 div.sk-parallel-item:first-child::after {align-self: flex-end;width: 50%;}#sk-container-id-1 div.sk-parallel-item:last-child::after {align-self: flex-start;width: 50%;}#sk-container-id-1 div.sk-parallel-item:only-child::after {width: 0;}#sk-container-id-1 div.sk-dashed-wrapped {border: 1px dashed gray;margin: 0 0.4em 0.5em 0.4em;box-sizing: border-box;padding-bottom: 0.4em;background-color: white;}#sk-container-id-1 div.sk-label label {font-family: monospace;font-weight: bold;display: inline-block;line-height: 1.2em;}#sk-container-id-1 div.sk-label-container {text-align: center;}#sk-container-id-1 div.sk-container {/* jupyter's `normalize.less` sets `[hidden] { display: none; }` but bootstrap.min.css set `[hidden] { display: none !important; }` so we also need the `!important` here to be able to override the default hidden behavior on the sphinx rendered scikit-learn.org. See: https://github.com/scikit-learn/scikit-learn/issues/21755 */display: inline-block !important;position: relative;}#sk-container-id-1 div.sk-text-repr-fallback {display: none;}</style><div id=\"sk-container-id-1\" class=\"sk-top-container\"><div class=\"sk-text-repr-fallback\"><pre>RandomForestClassifier(n_estimators=34)</pre><b>In a Jupyter environment, please rerun this cell to show the HTML representation or trust the notebook. <br />On GitHub, the HTML representation is unable to render, please try loading this page with nbviewer.org.</b></div><div class=\"sk-container\" hidden><div class=\"sk-item\"><div class=\"sk-estimator sk-toggleable\"><input class=\"sk-toggleable__control sk-hidden--visually\" id=\"sk-estimator-id-1\" type=\"checkbox\" checked><label for=\"sk-estimator-id-1\" class=\"sk-toggleable__label sk-toggleable__label-arrow\">RandomForestClassifier</label><div class=\"sk-toggleable__content\"><pre>RandomForestClassifier(n_estimators=34)</pre></div></div></div></div></div>"
      ],
      "text/plain": [
       "RandomForestClassifier(n_estimators=34)"
      ]
     },
     "execution_count": 16,
     "metadata": {},
     "output_type": "execute_result"
    }
   ],
   "source": [
    "from sklearn.ensemble import RandomForestClassifier\n",
    "\n",
    "rf = RandomForestClassifier(n_estimators=34)\n",
    "rf.fit(X_train, Y_train) # training the model"
   ]
  },
  {
   "cell_type": "code",
   "execution_count": 17,
   "id": "407bf97b",
   "metadata": {},
   "outputs": [],
   "source": [
    "Y_pred = rf.predict(X_test)  # predicting for X_test dataset"
   ]
  },
  {
   "cell_type": "code",
   "execution_count": 18,
   "id": "ec7a4607",
   "metadata": {},
   "outputs": [],
   "source": [
    "from sklearn.metrics import accuracy_score"
   ]
  },
  {
   "cell_type": "code",
   "execution_count": 19,
   "id": "d4ba5bab",
   "metadata": {},
   "outputs": [
    {
     "name": "stdout",
     "output_type": "stream",
     "text": [
      "Accuracy of the model is 88.89%\n"
     ]
    }
   ],
   "source": [
    "print(f\"Accuracy of the model is {accuracy_score(Y_test,Y_pred)*100:.2f}%\") # calculating the accuracy of the model"
   ]
  },
  {
   "cell_type": "code",
   "execution_count": 20,
   "id": "0d56c5ac",
   "metadata": {},
   "outputs": [],
   "source": [
    "import  pickle"
   ]
  },
  {
   "cell_type": "code",
   "execution_count": 21,
   "id": "22c67a9a",
   "metadata": {},
   "outputs": [],
   "source": [
    "with open('model.pkl', 'wb') as f:\n",
    "    pickle.dump(rf, f)"
   ]
  },
  {
   "cell_type": "code",
   "execution_count": null,
   "id": "93c4680f",
   "metadata": {},
   "outputs": [],
   "source": []
  },
  {
   "cell_type": "code",
   "execution_count": null,
   "id": "1562d878",
   "metadata": {},
   "outputs": [],
   "source": []
  }
 ],
 "metadata": {
  "kernelspec": {
   "display_name": "Python 3 (ipykernel)",
   "language": "python",
   "name": "python3"
  },
  "language_info": {
   "codemirror_mode": {
    "name": "ipython",
    "version": 3
   },
   "file_extension": ".py",
   "mimetype": "text/x-python",
   "name": "python",
   "nbconvert_exporter": "python",
   "pygments_lexer": "ipython3",
   "version": "3.11.5"
  }
 },
 "nbformat": 4,
 "nbformat_minor": 5
}
